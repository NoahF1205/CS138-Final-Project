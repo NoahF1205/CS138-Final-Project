{
 "cells": [
  {
   "cell_type": "code",
   "execution_count": 1,
   "metadata": {
    "ExecuteTime": {
     "end_time": "2023-12-18T19:57:08.982986500Z",
     "start_time": "2023-12-18T19:57:07.246456400Z"
    }
   },
   "outputs": [],
   "source": [
    "import gym\n",
    "import torch\n",
    "import torch.nn.functional as F\n",
    "import numpy as np\n",
    "import matplotlib.pyplot as plt\n",
    "from rl_agents.rl_utils import  *\n",
    "from rl_agents.Actor_Critic import ActorCritic\n",
    "from env.car_racing_wrapper import  Env\n",
    "import pygame"
   ]
  },
  {
   "cell_type": "code",
   "execution_count": null,
   "metadata": {},
   "outputs": [],
   "source": [
    "actor_lr = 1e-3\n",
    "critic_lr = 1e-3\n",
    "num_episodes = 100\n",
    "hidden_dim = 128\n",
    "gamma = 0.98\n",
    "\n",
    "env = Env(seed=0, action_repeat=8, img_stack=3,render_mode=None)\n",
    "torch.manual_seed(0)\n",
    "\n",
    "\n",
    "input_channels = 3  \n",
    "action_dim = 10\n",
    "\n",
    "agent = ActorCritic(input_channels, hidden_dim, action_dim, actor_lr, critic_lr, gamma)\n",
    "return_list, training_time = train_on_policy_agent(env, agent, num_episodes)"
   ]
  },
  {
   "cell_type": "code",
   "execution_count": null,
   "outputs": [],
   "source": [
    "with open('./Actor_Critic_return_list.csv', 'w+') as file:\n",
    "    for i in range(len(return_list)):\n",
    "        file.write(str(return_list[i]) + \"\\n\")\n",
    "with open('./Actor_Critic_time.csv', 'w+') as file:\n",
    "        file.write(str(training_time) + \"\\n\")"
   ],
   "metadata": {
    "collapsed": false
   }
  },
  {
   "cell_type": "code",
   "execution_count": null,
   "metadata": {},
   "outputs": [],
   "source": [
    "episodes_list = list(range(len(return_list)))\n",
    "plt.plot(episodes_list, return_list)\n",
    "plt.xlabel('Episodes')\n",
    "plt.ylabel('Returns')\n",
    "plt.title('Actor-Critic on {}'.format(\"CarRacing-v2\"))\n",
    "plt.savefig(\"figure1.png\", dpi=300)\n",
    "plt.show()\n",
    "\n",
    "mv_return = moving_average(return_list, 9)\n",
    "plt.plot(episodes_list, mv_return)\n",
    "plt.xlabel('Episodes')\n",
    "plt.ylabel('Returns')\n",
    "plt.title('Actor-Critic on {}'.format(\"CarRacing-v2\"))\n",
    "plt.savefig(\"figure2.png\", dpi=300)\n",
    "plt.show()\n"
   ]
  },
  {
   "cell_type": "code",
   "execution_count": 2,
   "outputs": [
    {
     "name": "stderr",
     "output_type": "stream",
     "text": [
      "C:\\MiniConda\\envs\\RL_Lab\\lib\\site-packages\\gym\\utils\\passive_env_checker.py:233: DeprecationWarning: `np.bool8` is a deprecated alias for `np.bool_`.  (Deprecated NumPy 1.24)\n",
      "  if not isinstance(terminated, (bool, np.bool8)):\n"
     ]
    }
   ],
   "source": [
    "actor_lr = 1e-3\n",
    "critic_lr = 1e-2\n",
    "input_channels = 3  \n",
    "action_dim = 10\n",
    "hidden_dim = 128\n",
    "gamma = 0.98\n",
    "\n",
    "env = Env(seed=0, action_repeat=8, img_stack=3, render_mode=\"human\")\n",
    "torch.manual_seed(0)\n",
    "\n",
    "\n",
    "agent = ActorCritic(input_channels, hidden_dim, action_dim, actor_lr, critic_lr, gamma)\n",
    "\n",
    "# 加载权重\n",
    "actor_weights_path = './weights/actor_weights.pth'\n",
    "critic_weights_path = './weights/critic_weights.pth'\n",
    "agent.load_weights(actor_weights_path, critic_weights_path)\n",
    "\n",
    "# 播放游戏\n",
    "play_game(env, agent, episodes=10)"
   ],
   "metadata": {
    "collapsed": false,
    "ExecuteTime": {
     "end_time": "2023-12-18T19:58:01.742519600Z",
     "start_time": "2023-12-18T19:57:13.988563900Z"
    }
   }
  }
 ],
 "metadata": {
  "kernelspec": {
   "display_name": "ROS",
   "language": "python",
   "name": "python3"
  },
  "language_info": {
   "codemirror_mode": {
    "name": "ipython",
    "version": 3
   },
   "file_extension": ".py",
   "mimetype": "text/x-python",
   "name": "python",
   "nbconvert_exporter": "python",
   "pygments_lexer": "ipython3",
   "version": "3.9.16"
  }
 },
 "nbformat": 4,
 "nbformat_minor": 2
}
