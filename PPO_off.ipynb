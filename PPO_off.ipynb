{
 "cells": [
  {
   "cell_type": "code",
   "execution_count": 1,
   "metadata": {
    "ExecuteTime": {
     "end_time": "2023-12-20T07:43:03.909647800Z",
     "start_time": "2023-12-20T07:43:01.601810200Z"
    }
   },
   "outputs": [],
   "source": [
    "import matplotlib.pyplot as plt\n",
    "from env.car_racing_wrapper import Env\n",
    "from rl_agents.PPO_off import PPO_off\n",
    "from rl_agents.rl_utils import *"
   ]
  },
  {
   "cell_type": "code",
   "execution_count": 2,
   "metadata": {
    "ExecuteTime": {
     "end_time": "2023-12-20T07:43:07.830821800Z",
     "start_time": "2023-12-20T07:43:04.507853300Z"
    }
   },
   "outputs": [
    {
     "name": "stderr",
     "output_type": "stream",
     "text": [
      "D:\\anaconda3\\envs\\cs138\\lib\\site-packages\\gym\\utils\\passive_env_checker.py:233: DeprecationWarning: `np.bool8` is a deprecated alias for `np.bool_`.  (Deprecated NumPy 1.24)\n",
      "  if not isinstance(terminated, (bool, np.bool8)):\n",
      "\n",
      "KeyboardInterrupt\n",
      "\n"
     ]
    }
   ],
   "source": [
    "actor_lr = 1e-3\n",
    "critic_lr = 1e-3\n",
    "num_episodes = 1000\n",
    "hidden_dim = 100\n",
    "gamma = 0.99\n",
    "ppo_epoch = 10\n",
    "eps = 0.1\n",
    "buffer_capacity = 2000\n",
    "batch_size = 128\n",
    "\n",
    "env = Env(seed=0, action_repeat=8, img_stack=3,render_mode=None)\n",
    "torch.manual_seed(0)\n",
    "\n",
    "\n",
    "input_channels = 3\n",
    "\n",
    "\n",
    "agent = PPO_off(input_channel=input_channels, hidden_dim=hidden_dim, gamma=gamma, eps=eps, ppo_epoch=ppo_epoch, buffer_capacity=buffer_capacity, batch_size=batch_size, actor_lr=actor_lr, critic_lr=critic_lr)\n",
    "return_list, training_time = train_off_policy_agent_off(agent,env,  num_episodes)"
   ]
  },
  {
   "cell_type": "code",
   "execution_count": null,
   "outputs": [],
   "source": [
    "with open('./PPO_off_return_list.csv', 'w+') as file:\n",
    "    for i in range(len(return_list)):\n",
    "        file.write(str(return_list[i]) + \"\\n\")\n",
    "with open('./PPO_off_time.csv', 'w+') as file:\n",
    "        file.write(str(training_time) + \"\\n\")"
   ],
   "metadata": {
    "collapsed": false
   }
  },
  {
   "cell_type": "code",
   "execution_count": null,
   "metadata": {},
   "outputs": [],
   "source": [
    "episodes_list = list(range(len(return_list)))\n",
    "plt.plot(episodes_list, return_list)\n",
    "plt.xlabel('Episodes')\n",
    "plt.ylabel('Returns')\n",
    "plt.title('PPO_off on {}'.format(\"CarRacing-v2\"))\n",
    "plt.savefig(\"figure1.png\", dpi=300)\n",
    "plt.show()\n",
    "\n",
    "mv_return = moving_average(return_list, 9)\n",
    "plt.plot(episodes_list, mv_return)\n",
    "plt.xlabel('Episodes')\n",
    "plt.ylabel('Returns')\n",
    "plt.title('PPO_off on {}'.format(\"CarRacing-v2\"))\n",
    "plt.savefig(\"figure2.png\", dpi=300)\n",
    "plt.show()\n"
   ]
  },
  {
   "cell_type": "code",
   "execution_count": 6,
   "outputs": [
    {
     "ename": "NameError",
     "evalue": "name 'Env' is not defined",
     "output_type": "error",
     "traceback": [
      "\u001B[1;31m---------------------------------------------------------------------------\u001B[0m",
      "\u001B[1;31mNameError\u001B[0m                                 Traceback (most recent call last)",
      "Cell \u001B[1;32mIn[6], line 8\u001B[0m\n\u001B[0;32m      5\u001B[0m hidden_dim \u001B[38;5;241m=\u001B[39m \u001B[38;5;241m128\u001B[39m\n\u001B[0;32m      6\u001B[0m gamma \u001B[38;5;241m=\u001B[39m \u001B[38;5;241m0.98\u001B[39m\n\u001B[1;32m----> 8\u001B[0m env \u001B[38;5;241m=\u001B[39m \u001B[43mEnv\u001B[49m(seed\u001B[38;5;241m=\u001B[39m\u001B[38;5;241m0\u001B[39m, action_repeat\u001B[38;5;241m=\u001B[39m\u001B[38;5;241m8\u001B[39m, img_stack\u001B[38;5;241m=\u001B[39m\u001B[38;5;241m3\u001B[39m, render_mode\u001B[38;5;241m=\u001B[39m\u001B[38;5;124m\"\u001B[39m\u001B[38;5;124mhuman\u001B[39m\u001B[38;5;124m\"\u001B[39m)\n\u001B[0;32m      9\u001B[0m torch\u001B[38;5;241m.\u001B[39mmanual_seed(\u001B[38;5;241m0\u001B[39m)\n\u001B[0;32m     12\u001B[0m agent \u001B[38;5;241m=\u001B[39m PPO_on(input_channels, hidden_dim, action_dim, actor_lr, critic_lr, gamma)\n",
      "\u001B[1;31mNameError\u001B[0m: name 'Env' is not defined"
     ]
    }
   ],
   "source": [
    "actor_lr = 1e-3\n",
    "critic_lr = 1e-3\n",
    "num_episodes = 100\n",
    "hidden_dim = 100\n",
    "gamma = 0.99\n",
    "ppo_epoch = 10\n",
    "eps = 0.1\n",
    "buffer_capacity = 2000\n",
    "batch_size = 128\n",
    "input_channels = 4\n",
    "\n",
    "env = Env(seed=0, action_repeat=8, img_stack=3, render_mode=\"human\")\n",
    "torch.manual_seed(0)\n",
    "\n",
    "\n",
    "agent = PPO_off(input_channel=input_channels, hidden_dim=hidden_dim, gamma=gamma, eps=eps, ppo_epoch=ppo_epoch, buffer_capacity=buffer_capacity, batch_size=batch_size, actor_lr=actor_lr,\n",
    "                  critic_lr=critic_lr)\n",
    "\n",
    "# 加载权重\n",
    "actor_weights_path = './weights/PPO_off_actor_weights.pth'\n",
    "critic_weights_path = './weights/PPO_off_critic_weights.pth'\n",
    "agent.load_weights(actor_weights_path, critic_weights_path)\n",
    "\n",
    "# 播放游戏\n",
    "play_game(env, agent, episodes=10)"
   ],
   "metadata": {
    "collapsed": false,
    "ExecuteTime": {
     "end_time": "2023-12-20T06:17:35.098429800Z",
     "start_time": "2023-12-20T06:17:34.975718400Z"
    }
   }
  }
 ],
 "metadata": {
  "kernelspec": {
   "name": "cs138",
   "language": "python",
   "display_name": "cs138"
  },
  "language_info": {
   "codemirror_mode": {
    "name": "ipython",
    "version": 3
   },
   "file_extension": ".py",
   "mimetype": "text/x-python",
   "name": "python",
   "nbconvert_exporter": "python",
   "pygments_lexer": "ipython3",
   "version": "3.9.16"
  }
 },
 "nbformat": 4,
 "nbformat_minor": 2
}
